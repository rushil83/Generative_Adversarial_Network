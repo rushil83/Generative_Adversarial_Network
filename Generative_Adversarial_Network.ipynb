{
 "cells": [
  {
   "cell_type": "markdown",
   "metadata": {},
   "source": [
    "## Generative Adversarial Network  (When Fake Gets Real)\n",
    "\n",
    "![](https://camo.githubusercontent.com/4c4f5a700b817b646bbed49dffdaa4a0925df8aa/68747470733a2f2f6d6f7276616e7a686f752e6769746875622e696f2f7374617469632f726573756c74732f746f7263682f342d342d312e676966)\n",
    "\n",
    "In this two models will fight against each other and will be able to co-train through plain old `backpropagation`\n",
    "\n",
    "The models play two distinct roles. Given some real data set R, G is the `generator`, trying to create fake data that looks just like the genuine data, while D is the `discriminator`, getting data from either the real set or G and labeling the difference. Goodfellow’s metaphor (and a fine one it is) was that G was like a team of forgers trying to match real paintings with their output, while D was the team of detectives trying to tell the difference. (Except that in this case, the forgers G never get to see the original data — only the judgments of D. They’re like blind forgers.) [to get more detail](https://medium.com/@devnag/generative-adversarial-networks-gans-in-50-lines-of-code-pytorch-e81b79659e3f)\n",
    "\n",
    "![](https://cdn-images-1.medium.com/max/800/1*-gFsbymY9oJUQJ-A3GTfeg.png)\n",
    "\n",
    "In the ideal case, both D and G would get better over time until G had essentially become a “master forger” of the genuine article and D was at a loss, “unable to differentiate between the two distributions.”\n",
    "\n",
    "explaination credits - [Dev Nag](https://medium.com/@devnag/generative-adversarial-networks-gans-in-50-lines-of-code-pytorch-e81b79659e3f)\n"
   ]
  },
  {
   "cell_type": "markdown",
   "metadata": {},
   "source": [
    "### Dependencies "
   ]
  },
  {
   "cell_type": "code",
   "execution_count": 1,
   "metadata": {},
   "outputs": [
    {
     "name": "stdout",
     "output_type": "stream",
     "text": [
      "Populating the interactive namespace from numpy and matplotlib\n"
     ]
    },
    {
     "name": "stderr",
     "output_type": "stream",
     "text": [
      "Using TensorFlow backend.\n"
     ]
    }
   ],
   "source": [
    "%pylab inline\n",
    "\n",
    "import os\n",
    "import numpy as np\n",
    "import pandas as pd\n",
    "from scipy.misc import imread\n",
    "\n",
    "from keras.datasets import mnist\n",
    "import keras\n",
    "from keras.models import Sequential\n",
    "from keras.layers import Dense, Flatten, Reshape, InputLayer\n",
    "from keras.regularizers import L1L2\n",
    "from keras.layers import Input\n",
    "from keras_adversarial import AdversarialModel, simple_gan, gan_targets\n",
    "from keras_adversarial import AdversarialOptimizerSimultaneous, normal_latent_sampling"
   ]
  },
  {
   "cell_type": "markdown",
   "metadata": {},
   "source": [
    "### Loading traditional MNIST dataset"
   ]
  },
  {
   "cell_type": "code",
   "execution_count": 2,
   "metadata": {},
   "outputs": [],
   "source": [
    "(X_train, y_train), (X_test, y_test) = mnist.load_data()"
   ]
  },
  {
   "cell_type": "code",
   "execution_count": 3,
   "metadata": {
    "scrolled": true
   },
   "outputs": [
    {
     "data": {
      "text/plain": [
       "<matplotlib.image.AxesImage at 0x7f4ae96b4978>"
      ]
     },
     "execution_count": 3,
     "metadata": {},
     "output_type": "execute_result"
    },
    {
     "data": {
      "image/png": "[encoded data removed]",
      "text/plain": [
       "<matplotlib.figure.Figure at 0x7f4aeebb05c0>"
      ]
     },
     "metadata": {},
     "output_type": "display_data"
    }
   ],
   "source": [
    "from matplotlib import pyplot as plt\n",
    "plt.imshow(X_train[0])\n"
   ]
  },
  {
   "cell_type": "markdown",
   "metadata": {},
   "source": [
    "Some processing to make sure everything gonna go well.."
   ]
  },
  {
   "cell_type": "code",
   "execution_count": 4,
   "metadata": {},
   "outputs": [],
   "source": [
    "X_train = X_train.reshape(X_train.shape[0], 1, 28, 28)\n",
    "X_test = X_test.reshape(X_test.shape[0], 1, 28, 28)\n",
    "X_train = X_train.astype('float32')\n",
    "X_test = X_test.astype('float32')\n",
    "train_x =X_train/ 255\n",
    "X_test /= 255"
   ]
  },
  {
   "cell_type": "code",
   "execution_count": 5,
   "metadata": {},
   "outputs": [
    {
     "data": {
      "text/plain": [
       "(1, 28, 28)"
      ]
     },
     "execution_count": 5,
     "metadata": {},
     "output_type": "execute_result"
    }
   ],
   "source": [
    "train_x.shape[1:]"
   ]
  },
  {
   "cell_type": "markdown",
   "metadata": {},
   "source": [
    "## GAN architecture\n",
    "![](https://d3ansictanv2wj.cloudfront.net/GAN_Overall-7319eab235d83fe971fb769f62cbb15d.png)"
   ]
  },
  {
   "cell_type": "markdown",
   "metadata": {},
   "source": [
    "### Generative models are Deep convolutional in Nature; while Discriminative ones are deconvolutional\n",
    "\n",
    "![](https://camo.githubusercontent.com/3f0526681587126784943a49fd7da4c1bd216ae4/68747470733a2f2f6169322d73322d7075626c69632e73332e616d617a6f6e6177732e636f6d2f666967757265732f323031362d31312d30382f343266366635343534646461393964383938396639383134393839656664353066653830376565382f332d466967757265312d312e706e67)"
   ]
  },
  {
   "cell_type": "code",
   "execution_count": 33,
   "metadata": {},
   "outputs": [],
   "source": [
    "# generator\n",
    "generative_model = Sequential([\n",
    "    Dense(units=500, input_dim=100, activation='relu'),\n",
    "\n",
    "    Dense(units=600, activation='relu'),\n",
    "        \n",
    "    Dense(units=784, activation='sigmoid'),\n",
    "    \n",
    "    Reshape(d_input_shape),\n",
    "])\n",
    "\n",
    "\n",
    "# discriminator\n",
    "discriminative_model = Sequential([\n",
    "    InputLayer(input_shape=(28,28)),\n",
    "    \n",
    "    Flatten(),\n",
    "        \n",
    "    Dense(units=600, activation='relu'),\n",
    "\n",
    "    Dense(units=500, activation='relu'),\n",
    "        \n",
    "    Dense(units=1, activation='sigmoid'),\n",
    "])"
   ]
  },
  {
   "cell_type": "code",
   "execution_count": 34,
   "metadata": {},
   "outputs": [
    {
     "name": "stdout",
     "output_type": "stream",
     "text": [
      "_________________________________________________________________\n",
      "Layer (type)                 Output Shape              Param #   \n",
      "=================================================================\n",
      "dense_25 (Dense)             (None, 500)               50500     \n",
      "_________________________________________________________________\n",
      "dense_26 (Dense)             (None, 600)               300600    \n",
      "_________________________________________________________________\n",
      "dense_27 (Dense)             (None, 784)               471184    \n",
      "_________________________________________________________________\n",
      "reshape_4 (Reshape)          (None, 28, 28)            0         \n",
      "=================================================================\n",
      "Total params: 822,284\n",
      "Trainable params: 822,284\n",
      "Non-trainable params: 0\n",
      "_________________________________________________________________\n"
     ]
    }
   ],
   "source": [
    "generative_model.summary()"
   ]
  },
  {
   "cell_type": "code",
   "execution_count": 35,
   "metadata": {
    "scrolled": true
   },
   "outputs": [
    {
     "name": "stdout",
     "output_type": "stream",
     "text": [
      "_________________________________________________________________\n",
      "Layer (type)                 Output Shape              Param #   \n",
      "=================================================================\n",
      "input_5 (InputLayer)         (None, 28, 28)            0         \n",
      "_________________________________________________________________\n",
      "flatten_4 (Flatten)          (None, 784)               0         \n",
      "_________________________________________________________________\n",
      "dense_28 (Dense)             (None, 600)               471000    \n",
      "_________________________________________________________________\n",
      "dense_29 (Dense)             (None, 500)               300500    \n",
      "_________________________________________________________________\n",
      "dense_30 (Dense)             (None, 1)                 501       \n",
      "=================================================================\n",
      "Total params: 772,001\n",
      "Trainable params: 772,001\n",
      "Non-trainable params: 0\n",
      "_________________________________________________________________\n"
     ]
    }
   ],
   "source": [
    "discriminative_model.summary()"
   ]
  },
  {
   "cell_type": "markdown",
   "metadata": {},
   "source": [
    "## GAN Model"
   ]
  },
  {
   "cell_type": "code",
   "execution_count": 36,
   "metadata": {},
   "outputs": [
    {
     "name": "stdout",
     "output_type": "stream",
     "text": [
      "_________________________________________________________________\n",
      "Layer (type)                 Output Shape              Param #   \n",
      "=================================================================\n",
      "input_6 (InputLayer)         (None, 100)               0         \n",
      "_________________________________________________________________\n",
      "sequential_13 (Sequential)   (None, 28, 28)            822284    \n",
      "_________________________________________________________________\n",
      "sequential_8 (Sequential)    (None, 1)                 643501    \n",
      "=================================================================\n",
      "Total params: 1,465,785\n",
      "Trainable params: 822,284\n",
      "Non-trainable params: 643,501\n",
      "_________________________________________________________________\n"
     ]
    }
   ],
   "source": [
    "from keras.models import Model\n",
    "from keras.optimizers import Adam, SGD\n",
    "opt = SGD(lr=1e-3)\n",
    "\n",
    "\n",
    "\n",
    "def training(model, to_train = False):\n",
    "    model.trainable = to_train\n",
    "    for l in model.layers:\n",
    "       l.trainable = to_train\n",
    "training(discriminator, False)\n",
    "\n",
    "\n",
    "\n",
    "# # Build  GAN model\n",
    "\n",
    "fake_data_input = Input(shape=[100])\n",
    "\n",
    "genrated_data = generative_model(fake_data_input)\n",
    "\n",
    "discriminative_output= discriminator(genrated_data)\n",
    "\n",
    "GAN = Model(fake_data_input, discriminative_output)\n",
    "GAN.compile(loss='categorical_crossentropy',optimizer=opt)\n",
    "GAN.summary()\n",
    "\n"
   ]
  },
  {
   "cell_type": "code",
   "execution_count": null,
   "metadata": {},
   "outputs": [],
   "source": [
    "epochs = 25 \n",
    "batch_size = 128"
   ]
  },
  {
   "cell_type": "markdown",
   "metadata": {},
   "source": [
    "### yet to be continue..... (some other thing has to catch first)"
   ]
  }
 ],
 "metadata": {
  "kernelspec": {
   "display_name": "Python 3",
   "language": "python",
   "name": "python3"
  },
  "language_info": {
   "codemirror_mode": {
    "name": "ipython",
    "version": 3
   },
   "file_extension": ".py",
   "mimetype": "text/x-python",
   "name": "python",
   "nbconvert_exporter": "python",
   "pygments_lexer": "ipython3",
   "version": "3.5.2"
  }
 },
 "nbformat": 4,
 "nbformat_minor": 2
}
